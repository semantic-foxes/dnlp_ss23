{
 "cells": [
  {
   "cell_type": "code",
   "execution_count": 1,
   "id": "initial_id",
   "metadata": {
    "collapsed": true,
    "ExecuteTime": {
     "end_time": "2023-08-23T09:52:55.877363Z",
     "start_time": "2023-08-23T09:52:53.048851Z"
    }
   },
   "outputs": [],
   "source": [
    "import torch\n",
    "from src.datasets import SentenceSimilarityDataset, SSTDataset\n",
    "from torch.utils.data import DataLoader"
   ]
  },
  {
   "cell_type": "code",
   "execution_count": 2,
   "outputs": [
    {
     "name": "stderr",
     "output_type": "stream",
     "text": [
      "100%|██████████| 141497/141497 [00:00<00:00, 373171.45it/s]\n",
      "/Users/f3ss1/personal/CS/Goettingen/DL for NLP/dnlp_ss23_semantic_foxes/src/datasets/datasets.py:86: SettingWithCopyWarning: \n",
      "A value is trying to be set on a copy of a slice from a DataFrame.\n",
      "Try using .loc[row_indexer,col_indexer] = value instead\n",
      "\n",
      "See the caveats in the documentation: https://pandas.pydata.org/pandas-docs/stable/user_guide/indexing.html#returning-a-view-versus-a-copy\n",
      "  self.dataset['sentence1'] = self.dataset['sentence1'] \\\n",
      "100%|██████████| 141497/141497 [00:00<00:00, 360449.43it/s]\n",
      "/Users/f3ss1/personal/CS/Goettingen/DL for NLP/dnlp_ss23_semantic_foxes/src/datasets/datasets.py:88: SettingWithCopyWarning: \n",
      "A value is trying to be set on a copy of a slice from a DataFrame.\n",
      "Try using .loc[row_indexer,col_indexer] = value instead\n",
      "\n",
      "See the caveats in the documentation: https://pandas.pydata.org/pandas-docs/stable/user_guide/indexing.html#returning-a-view-versus-a-copy\n",
      "  self.dataset['sentence2'] = self.dataset['sentence2'] \\\n"
     ]
    }
   ],
   "source": [
    "dataset = SentenceSimilarityDataset(\n",
    "        'data/quora-train.csv',\n",
    "        return_targets=True\n",
    "    )"
   ],
   "metadata": {
    "collapsed": false,
    "ExecuteTime": {
     "end_time": "2023-08-23T09:52:58.034565Z",
     "start_time": "2023-08-23T09:52:55.879251Z"
    }
   },
   "id": "7c060b0f103694d9"
  },
  {
   "cell_type": "code",
   "execution_count": 4,
   "outputs": [
    {
     "data": {
      "text/plain": "{'token_ids_1': tensor([[  101,  2129,  2064,  1045,  3040,  2870,  1999, 10988,  1029,   102]]),\n 'token_type_ids_1': tensor([[0, 0, 0, 0, 0, 0, 0, 0, 0, 0]]),\n 'attention_masks_1': tensor([[1, 1, 1, 1, 1, 1, 1, 1, 1, 1]]),\n 'token_ids_2': tensor([[  101,  2129,  2064,  1045,  3040, 10988,  2005,  1996,  4937,  1011,\n           2403,  1029,   102]]),\n 'token_type_ids_2': tensor([[0, 0, 0, 0, 0, 0, 0, 0, 0, 0, 0, 0, 0]]),\n 'attention_masks_2': tensor([[1, 1, 1, 1, 1, 1, 1, 1, 1, 1, 1, 1, 1]]),\n 'targets': tensor([0])}"
     },
     "execution_count": 4,
     "metadata": {},
     "output_type": "execute_result"
    }
   ],
   "source": [
    "loader = DataLoader(dataset, collate_fn=dataset.collate_fn)\n",
    "iter_ = iter(loader)\n",
    "a = next(iter_)\n",
    "a"
   ],
   "metadata": {
    "collapsed": false,
    "ExecuteTime": {
     "end_time": "2023-08-23T09:53:39.924198Z",
     "start_time": "2023-08-23T09:53:39.910423Z"
    }
   },
   "id": "f26272a206115351"
  }
 ],
 "metadata": {
  "kernelspec": {
   "display_name": "Python 3",
   "language": "python",
   "name": "python3"
  },
  "language_info": {
   "codemirror_mode": {
    "name": "ipython",
    "version": 2
   },
   "file_extension": ".py",
   "mimetype": "text/x-python",
   "name": "python",
   "nbconvert_exporter": "python",
   "pygments_lexer": "ipython2",
   "version": "2.7.6"
  }
 },
 "nbformat": 4,
 "nbformat_minor": 5
}
